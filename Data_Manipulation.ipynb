{
 "cells": [
  {
   "cell_type": "markdown",
   "id": "753a643c-51a4-4f95-a067-4cb7d794e072",
   "metadata": {},
   "source": [
    "# random normal"
   ]
  },
  {
   "cell_type": "code",
   "execution_count": 44,
   "id": "0ccdaef6-36db-443d-9baf-8a16d57fab65",
   "metadata": {
    "tags": []
   },
   "outputs": [
    {
     "data": {
      "text/plain": [
       "array([ 0.50690734,  0.64121754, -1.72586574,  1.37240847, -0.10254977])"
      ]
     },
     "execution_count": 44,
     "metadata": {},
     "output_type": "execute_result"
    }
   ],
   "source": [
    " np.random.normal(0, 1, 5)"
   ]
  },
  {
   "cell_type": "code",
   "execution_count": 43,
   "id": "9df65bba-7f88-4dd8-a315-975944acd5b1",
   "metadata": {
    "tags": []
   },
   "outputs": [
    {
     "data": {
      "text/plain": [
       "array([[-0.99777178, -0.50040184,  0.50624525],\n",
       "       [ 1.57747514,  0.62411144,  0.70136554]])"
      ]
     },
     "execution_count": 43,
     "metadata": {},
     "output_type": "execute_result"
    }
   ],
   "source": [
    "np.random.normal(0, 1, (2,3))"
   ]
  },
  {
   "cell_type": "code",
   "execution_count": 46,
   "id": "8cbd8f9a-cc2f-443e-a3b7-5e3e2c8a224c",
   "metadata": {
    "tags": []
   },
   "outputs": [
    {
     "data": {
      "text/plain": [
       "array([[-7.44466405, -9.57623691,  3.08807284],\n",
       "       [ 1.72881453, -4.5621891 , -3.82618245]])"
      ]
     },
     "execution_count": 46,
     "metadata": {},
     "output_type": "execute_result"
    }
   ],
   "source": [
    "np.random.normal(0, 9, (2,3))"
   ]
  },
  {
   "cell_type": "markdown",
   "id": "d47768cb-06e8-4779-ada7-64146c0a7df0",
   "metadata": {},
   "source": [
    "# zeros"
   ]
  },
  {
   "cell_type": "code",
   "execution_count": 19,
   "id": "7b1c5e1c-87e3-4316-9f39-5dd507fede18",
   "metadata": {
    "tags": []
   },
   "outputs": [
    {
     "data": {
      "text/plain": [
       "array([0, 0, 0, 0, 0, 0, 0, 0, 0, 0])"
      ]
     },
     "execution_count": 19,
     "metadata": {},
     "output_type": "execute_result"
    }
   ],
   "source": [
    "# sifirdan array oluşturma\n",
    "np.zeros(10, dtype=int)\n"
   ]
  },
  {
   "cell_type": "markdown",
   "id": "4336a436-016d-45d6-b468-6e4846cc4f34",
   "metadata": {},
   "source": [
    "# ones"
   ]
  },
  {
   "cell_type": "code",
   "execution_count": 20,
   "id": "dfc2c076-7a2a-4492-879d-22a75dd34c15",
   "metadata": {
    "tags": []
   },
   "outputs": [
    {
     "data": {
      "text/plain": [
       "array([[1, 1, 1, 1, 1],\n",
       "       [1, 1, 1, 1, 1],\n",
       "       [1, 1, 1, 1, 1]])"
      ]
     },
     "execution_count": 20,
     "metadata": {},
     "output_type": "execute_result"
    }
   ],
   "source": [
    "np.ones((3,5), dtype=int)"
   ]
  },
  {
   "cell_type": "code",
   "execution_count": 21,
   "id": "d98d559c-faf3-4298-b423-35bd6d597a47",
   "metadata": {
    "tags": []
   },
   "outputs": [
    {
     "data": {
      "text/plain": [
       "array([[3, 3, 3, 3],\n",
       "       [3, 3, 3, 3]])"
      ]
     },
     "execution_count": 21,
     "metadata": {},
     "output_type": "execute_result"
    }
   ],
   "source": [
    "np.full((2,4), 3)"
   ]
  },
  {
   "cell_type": "code",
   "execution_count": 22,
   "id": "1caefc94-f8e4-4803-8af0-b678c8ba2c1d",
   "metadata": {
    "tags": []
   },
   "outputs": [
    {
     "data": {
      "text/plain": [
       "array([0.        , 0.11111111, 0.22222222, 0.33333333, 0.44444444,\n",
       "       0.55555556, 0.66666667, 0.77777778, 0.88888889, 1.        ])"
      ]
     },
     "execution_count": 22,
     "metadata": {},
     "output_type": "execute_result"
    }
   ],
   "source": [
    "# 0 ile 1 arasında rastgele 10 sayı oluştur\n",
    "np.linspace(0,1,10)"
   ]
  },
  {
   "cell_type": "markdown",
   "id": "109582a1-0d7a-41e7-8090-5271cccb628c",
   "metadata": {},
   "source": [
    "# 1 boyutlu array"
   ]
  },
  {
   "cell_type": "code",
   "execution_count": 23,
   "id": "b6117de9-0604-4569-a271-f349c1fe206c",
   "metadata": {
    "tags": []
   },
   "outputs": [
    {
     "data": {
      "text/plain": [
       "array([1, 2, 3, 4, 5])"
      ]
     },
     "execution_count": 23,
     "metadata": {},
     "output_type": "execute_result"
    }
   ],
   "source": [
    "# Başlangıç: NumPy Kurulumu ve Kullanımı\n",
    "import numpy as np\n",
    "\n",
    "# Başlangıç: NumPy ile Bir Array Oluşturma\n",
    "# 1D Array Oluşturma\n",
    "arr_1d = np.array([1, 2, 3, 4, 5])\n",
    "arr_1d\n"
   ]
  },
  {
   "cell_type": "markdown",
   "id": "ca1ffe34-6df7-473c-a63b-f6c7b8266bf1",
   "metadata": {},
   "source": [
    "# 2 boyutlu array"
   ]
  },
  {
   "cell_type": "code",
   "execution_count": 24,
   "id": "0a85898a-4a24-490a-8953-ea10cbd1a4a6",
   "metadata": {
    "tags": []
   },
   "outputs": [
    {
     "data": {
      "text/plain": [
       "array([[1, 2],\n",
       "       [3, 4],\n",
       "       [5, 6]])"
      ]
     },
     "execution_count": 24,
     "metadata": {},
     "output_type": "execute_result"
    }
   ],
   "source": [
    "# 2D Array Oluşturma\n",
    "arr_2d = np.array([[1, 2], [3, 4], [5, 6]])\n",
    "arr_2d"
   ]
  },
  {
   "cell_type": "code",
   "execution_count": 5,
   "id": "f8527a97-6210-4f6e-91d5-b17fec060d3d",
   "metadata": {
    "tags": []
   },
   "outputs": [
    {
     "name": "stdout",
     "output_type": "stream",
     "text": [
      "Array 1D Shape: (5,)\n",
      "Array 2D Shape: (3, 2)\n",
      "Array 1D Size: 5\n",
      "Array 2D Size: 6\n",
      "Array 1D Data Type: int64\n",
      "Array 2D Data Type: int64\n",
      "Array 1D Dimensionality: 1\n",
      "Array 2D Dimensionality: 2\n"
     ]
    }
   ],
   "source": [
    "# Başlık 1: Array Özellikleri\n",
    "# Shape, Size, Data Type ve Dimensionality\n",
    "# shape:  array’in kaç satır ve kaç sütundan oluştuğunu gösterir.\n",
    "print(f\"Array 1D Shape: {arr_1d.shape}\")\n",
    "print(f\"Array 2D Shape: {arr_2d.shape}\")\n",
    "print(f\"Array 1D Size: {arr_1d.size}\")\n",
    "print(f\"Array 2D Size: {arr_2d.size}\")\n",
    "print(f\"Array 1D Data Type: {arr_1d.dtype}\")\n",
    "print(f\"Array 2D Data Type: {arr_2d.dtype}\")\n",
    "print(f\"Array 1D Dimensionality: {arr_1d.ndim}\")\n",
    "print(f\"Array 2D Dimensionality: {arr_2d.ndim}\")"
   ]
  },
  {
   "cell_type": "code",
   "execution_count": 6,
   "id": "0b3f8d3a-1f75-4d2d-acc9-3d1d279687fc",
   "metadata": {
    "tags": []
   },
   "outputs": [
    {
     "name": "stdout",
     "output_type": "stream",
     "text": [
      "Array 1D Eleman 3: 3\n",
      "Array 2D 2. Satır, 1. Eleman: 3\n",
      "Array 2D 2. Satır: [3 4]\n",
      "Array 1D Dilimleme (1:4): [2 3 4]\n"
     ]
    }
   ],
   "source": [
    "# Başlık 2: Array Elemanlarına Erişim\n",
    "# Indexleme \n",
    "print(f\"Array 1D Eleman 3: {arr_1d[2]}\")\n",
    "print(f\"Array 2D 2. Satır, 1. Eleman: {arr_2d[1, 0]}\")\n",
    "print(f\"Array 2D 2. Satır: {arr_2d[1]}\")\n"
   ]
  },
  {
   "cell_type": "markdown",
   "id": "16b8f1b2-bd17-4f43-b5b7-deb5432aa512",
   "metadata": {},
   "source": [
    "# Matematiksel İşlemler"
   ]
  },
  {
   "cell_type": "code",
   "execution_count": 7,
   "id": "00d2193d-fa79-4be1-8052-614b6064ef4d",
   "metadata": {
    "tags": []
   },
   "outputs": [
    {
     "name": "stdout",
     "output_type": "stream",
     "text": [
      "Array 1D + 5: [ 6  7  8  9 10]\n",
      "Array 1D - 2: [-1  0  1  2  3]\n",
      "Array 1D * 2: [ 2  4  6  8 10]\n",
      "Array 1D / 2: [0.5 1.  1.5 2.  2.5]\n"
     ]
    }
   ],
   "source": [
    "# Başlık 3: Array Matematiksel İşlemleri\n",
    "# Array ile Matematiksel Operasyonlar\n",
    "arr_add = arr_1d + 5\n",
    "arr_sub = arr_1d - 2\n",
    "arr_mult = arr_1d * 2\n",
    "arr_div = arr_1d / 2\n",
    "\n",
    "print(f\"Array 1D + 5: {arr_add}\")\n",
    "print(f\"Array 1D - 2: {arr_sub}\")\n",
    "print(f\"Array 1D * 2: {arr_mult}\")\n",
    "print(f\"Array 1D / 2: {arr_div}\")"
   ]
  },
  {
   "cell_type": "code",
   "execution_count": 8,
   "id": "b127521d-a873-4fd2-9744-cb48a1b2bd26",
   "metadata": {
    "tags": []
   },
   "outputs": [
    {
     "name": "stdout",
     "output_type": "stream",
     "text": [
      "Array 1D Mean: 3.0\n",
      "Array 1D Sum: 15\n",
      "Array 1D Max: 5\n",
      "Array 1D Min: 1\n"
     ]
    }
   ],
   "source": [
    "# Başlık 4: Array'ler ile İstatistiksel Hesaplamalar\n",
    "# Mean, Sum, Max, Min\n",
    "mean_value = np.mean(arr_1d)\n",
    "sum_value = np.sum(arr_1d)\n",
    "max_value = np.max(arr_1d)\n",
    "min_value = np.min(arr_1d)\n",
    "\n",
    "print(f\"Array 1D Mean: {mean_value}\")\n",
    "print(f\"Array 1D Sum: {sum_value}\")\n",
    "print(f\"Array 1D Max: {max_value}\")\n",
    "print(f\"Array 1D Min: {min_value}\")"
   ]
  },
  {
   "cell_type": "markdown",
   "id": "f29299f1-887f-4144-a0f5-73a318fa5bbb",
   "metadata": {},
   "source": [
    "# Reshape"
   ]
  },
  {
   "cell_type": "code",
   "execution_count": 9,
   "id": "670ba6f8-0943-489d-8bfe-c6c2790b5261",
   "metadata": {
    "tags": []
   },
   "outputs": [
    {
     "name": "stdout",
     "output_type": "stream",
     "text": [
      "Reshape Array 2D (2,3): \n",
      "[[1 2 3]\n",
      " [4 5 6]]\n",
      "Array 1D Append: [1 2 3 4 5 6]\n",
      "Array 1D Remove (index 2): [1 2 4 5]\n"
     ]
    }
   ],
   "source": [
    "# Başlık 5: Array'ler ile İleri Seviye Manipülasyonlar\n",
    "# Array Şekil Değiştirme\n",
    "reshaped_array = arr_2d.reshape(2, 3)\n",
    "print(f\"Reshape Array 2D (2,3): \\n{reshaped_array}\")\n",
    "\n",
    "# Eleman Ekleyip Çıkarma\n",
    "arr_append = np.append(arr_1d, 6)\n",
    "arr_remove = np.delete(arr_1d, 2) #2. indexi siler\n",
    "\n",
    "print(f\"Array 1D Append: {arr_append}\")\n",
    "print(f\"Array 1D Remove (index 2): {arr_remove}\")"
   ]
  },
  {
   "cell_type": "markdown",
   "id": "15e9d890-8ea6-46ca-a83e-0cc58d26f50b",
   "metadata": {},
   "source": [
    "# Concatenate"
   ]
  },
  {
   "cell_type": "code",
   "execution_count": 25,
   "id": "d3e93014-3c11-4182-b45b-a802e511f540",
   "metadata": {
    "tags": []
   },
   "outputs": [
    {
     "name": "stdout",
     "output_type": "stream",
     "text": [
      "[1 2 3 4 5 6]\n"
     ]
    }
   ],
   "source": [
    "# concatenate ile arrayleri birleştirme\n",
    "a = np.array([1, 2, 3])\n",
    "b = np.array([4, 5, 6])\n",
    "\n",
    "c = np.concatenate((a, b))\n",
    "print(c)"
   ]
  },
  {
   "cell_type": "code",
   "execution_count": 26,
   "id": "fc023fae-740d-4adf-ad93-2596361716af",
   "metadata": {
    "tags": []
   },
   "outputs": [
    {
     "name": "stdout",
     "output_type": "stream",
     "text": [
      "[[1 2]\n",
      " [3 4]\n",
      " [5 6]\n",
      " [7 8]]\n"
     ]
    }
   ],
   "source": [
    "x = np.array([[1, 2], [3, 4]])\n",
    "y = np.array([[5, 6], [7, 8]])\n",
    "\n",
    "z = np.concatenate((x, y), axis=0)\n",
    "print(z)"
   ]
  },
  {
   "cell_type": "code",
   "execution_count": 27,
   "id": "14f3b720-4e69-4fde-876d-8dc411cb3575",
   "metadata": {
    "tags": []
   },
   "outputs": [
    {
     "name": "stdout",
     "output_type": "stream",
     "text": [
      "[[1 2 5 6]\n",
      " [3 4 7 8]]\n"
     ]
    }
   ],
   "source": [
    "# axis 1 ile 2 boyuttlu arrayleri yan yana birleştirme\n",
    "x = np.array([[1, 2],\n",
    "              [3, 4]])\n",
    "y = np.array([[5, 6],\n",
    "              [7, 8]])\n",
    "\n",
    "z = np.concatenate((x, y), axis=1)\n",
    "print(z)"
   ]
  },
  {
   "cell_type": "markdown",
   "id": "67623bd7-2a79-4063-abe5-7a9227433258",
   "metadata": {},
   "source": [
    "# Split"
   ]
  },
  {
   "cell_type": "code",
   "execution_count": 28,
   "id": "346c8b23-ceaf-4930-b258-f7c2fe3d3323",
   "metadata": {
    "tags": []
   },
   "outputs": [
    {
     "name": "stdout",
     "output_type": "stream",
     "text": [
      "[array([1, 2]), array([3, 4]), array([5, 6])]\n"
     ]
    }
   ],
   "source": [
    "# 1D Array - Eşit parçaya bölme (split)\n",
    "# Bu array 6 elemanlı ve 3 eşit parçaya bölünüyor, her parça 2 eleman içeriyor\n",
    "a = np.array([1, 2, 3, 4, 5, 6])\n",
    "parts = np.split(a, 3)\n",
    "print(parts)\n"
   ]
  },
  {
   "cell_type": "code",
   "execution_count": 29,
   "id": "bd95df51-836b-4dc6-94e5-cd774464e23d",
   "metadata": {
    "tags": []
   },
   "outputs": [
    {
     "name": "stdout",
     "output_type": "stream",
     "text": [
      "[array([1, 2]), array([3, 4]), array([5])]\n"
     ]
    }
   ],
   "source": [
    "# 1D Array - Eşit olmayan parçaya bölme (array_split)\n",
    "# Eleman sayısı tam bölünemezse array_split kullanılır\n",
    "b = np.array([1, 2, 3, 4, 5])\n",
    "parts = np.array_split(b, 3)\n",
    "print(parts)\n"
   ]
  },
  {
   "cell_type": "code",
   "execution_count": 30,
   "id": "e67f3333-ebd6-4d9f-a5d7-839dda177e7a",
   "metadata": {
    "tags": []
   },
   "outputs": [
    {
     "name": "stdout",
     "output_type": "stream",
     "text": [
      "[[1 2]\n",
      " [3 4]]\n",
      "[[5 6]\n",
      " [7 8]]\n"
     ]
    }
   ],
   "source": [
    "# 2D Array - Satır bazlı bölme (vsplit)\n",
    "# 4 satırlı 2D array'i 2 eşit parçaya ayırıyoruz (her biri 2 satır içeriyor)\n",
    "arr2d = np.array([[1, 2],\n",
    "                  [3, 4],\n",
    "                  [5, 6],\n",
    "                  [7, 8]])\n",
    "parts = np.vsplit(arr2d, 2)\n",
    "print(parts[0])\n",
    "print(parts[1])\n"
   ]
  },
  {
   "cell_type": "code",
   "execution_count": 31,
   "id": "3ea81bb9-7dc7-4d83-9a98-266f74896ff9",
   "metadata": {
    "tags": []
   },
   "outputs": [
    {
     "name": "stdout",
     "output_type": "stream",
     "text": [
      "[[1 2]\n",
      " [5 6]]\n",
      "[[3 4]\n",
      " [7 8]]\n"
     ]
    }
   ],
   "source": [
    "# 2D Array - Sütun bazlı bölme (hsplit)\n",
    "# 4 sütunlu 2D array'i yatay olarak 2 parçaya ayırıyoruz (her biri 2 sütun içeriyor)\n",
    "arr2d = np.array([[1, 2, 3, 4],\n",
    "                  [5, 6, 7, 8]])\n",
    "\n",
    "parts = np.hsplit(arr2d, 2)\n",
    "print(parts[0])\n",
    "print(parts[1])\n"
   ]
  },
  {
   "cell_type": "markdown",
   "id": "f596b16c-d7d6-4376-aa5f-49ed3e8994d7",
   "metadata": {},
   "source": [
    "# Sort"
   ]
  },
  {
   "cell_type": "code",
   "execution_count": 32,
   "id": "d230749c-d8dd-4a8a-805c-fc7f728d8837",
   "metadata": {
    "tags": []
   },
   "outputs": [
    {
     "name": "stdout",
     "output_type": "stream",
     "text": [
      "Sıralı: [1 2 3 4 5]\n",
      "Orijinal: [3 1 4 5 2]\n"
     ]
    }
   ],
   "source": [
    "# 1D Array Sıralama (Küçükten büyüğe)\n",
    "# np.sort() fonksiyonu array'i sıralar ama orijinal array değişmez\n",
    "a = np.array([3, 1, 4, 5, 2])\n",
    "sorted_a = np.sort(a)\n",
    "print(\"Sıralı:\", sorted_a)\n",
    "print(\"Orijinal:\", a)\n"
   ]
  },
  {
   "cell_type": "code",
   "execution_count": 37,
   "id": "50bb3cee-0090-4972-bb78-cdb0fb3116b3",
   "metadata": {
    "tags": []
   },
   "outputs": [
    {
     "name": "stdout",
     "output_type": "stream",
     "text": [
      "Satır Bazlı Sıralama:\n",
      " [[2 3 4]\n",
      " [1 6 7]]\n",
      "Sütun Bazlı Sıralama:\n",
      " [[3 4 1]\n",
      " [6 7 2]]\n"
     ]
    }
   ],
   "source": [
    "# 2D Array Sıralama (satır veya sütun bazlı)\n",
    "arr2d = np.array([[3, 4, 2],\n",
    "                  [6, 7, 1]])\n",
    "\n",
    "# axis=1 → satır bazlı sıralama (her satır kendi içinde)\n",
    "sorted_rows = np.sort(arr2d, axis=1)\n",
    "print(\"Satır Bazlı Sıralama:\\n\", sorted_rows)\n",
    "\n",
    "# axis=0 → sütun bazlı sıralama (her sütun kendi içinde)\n",
    "sorted_cols = np.sort(arr2d, axis=0)\n",
    "print(\"Sütun Bazlı Sıralama:\\n\", sorted_cols)\n"
   ]
  },
  {
   "cell_type": "code",
   "execution_count": 35,
   "id": "cdbbdb82-9aa5-420a-9e32-fa43068d7f17",
   "metadata": {
    "tags": []
   },
   "outputs": [
    {
     "name": "stdout",
     "output_type": "stream",
     "text": [
      "Sıralama için indeksler: [1 2 0]\n",
      "Sıralı: [10 20 40]\n"
     ]
    }
   ],
   "source": [
    "# Sıralı elemanların orijinal indekslerini bulma: np.argsort()\n",
    "# Bu fonksiyon, sıralama sonucu oluşacak dizinin indeks sırasını döner\n",
    "x = np.array([40, 10, 20])\n",
    "indices = np.argsort(x)\n",
    "print(\"Sıralama için indeksler:\", indices)\n",
    "\n",
    "# Bu indekslerle sıralı hali:\n",
    "print(\"Sıralı:\", x[indices])\n"
   ]
  },
  {
   "cell_type": "markdown",
   "id": "0797a0d4-5ba7-4ac3-a9c9-2cd143a35d0b",
   "metadata": {},
   "source": [
    "# Slicing"
   ]
  },
  {
   "cell_type": "code",
   "execution_count": 2,
   "id": "3b03ec03-4025-4761-b418-6142061b52ca",
   "metadata": {
    "tags": []
   },
   "outputs": [
    {
     "name": "stdout",
     "output_type": "stream",
     "text": [
      "[10 20 30]\n",
      "[30 40 50]\n",
      "[20 30 40]\n",
      "[40 50]\n",
      "[10 30 50]\n"
     ]
    }
   ],
   "source": [
    "import numpy as np\n",
    "\n",
    "# 1D array tanımla\n",
    "a = np.array([10, 20, 30, 40, 50])\n",
    "\n",
    "# İlk 3 elemanı al\n",
    "print(a[:3])  # [10 20 30]\n",
    "\n",
    "# 2. indeksten sona kadar\n",
    "print(a[2:])  # [30 40 50]\n",
    "\n",
    "# Ortadaki elemanlar (1'den 4'e kadar, 4 dahil değil)\n",
    "print(a[1:4])  # [20 30 40]\n",
    "\n",
    "# Son 2 eleman\n",
    "print(a[-2:])  # [40 50]\n",
    "\n",
    "# Her 2. elemanı al\n",
    "print(a[::2])  # [10 30 50]\n"
   ]
  },
  {
   "cell_type": "code",
   "execution_count": 3,
   "id": "c47210fb-bc4e-4235-8e48-aa9121e40d46",
   "metadata": {
    "tags": []
   },
   "outputs": [
    {
     "name": "stdout",
     "output_type": "stream",
     "text": [
      "[1 2 3 4]\n",
      "[[1 2 3 4]\n",
      " [5 6 7 8]]\n",
      "[[ 1  2]\n",
      " [ 5  6]\n",
      " [ 9 10]]\n",
      "[6 7]\n",
      "[ 9 10 11 12]\n",
      "[[ 7  8]\n",
      " [11 12]]\n"
     ]
    }
   ],
   "source": [
    "# 2D array tanımla (3 satır, 4 sütun)\n",
    "b = np.array([[ 1,  2,  3,  4],\n",
    "              [ 5,  6,  7,  8],\n",
    "              [ 9, 10, 11, 12]])\n",
    "\n",
    "# İlk satırı al\n",
    "print(b[0])  # [1 2 3 4]\n",
    "\n",
    "# İlk iki satırı al\n",
    "print(b[:2])  \n",
    "# [[1 2 3 4]\n",
    "#  [5 6 7 8]]\n",
    "\n",
    "# Tüm satırlar, ilk iki sütun\n",
    "print(b[:, :2])\n",
    "# [[ 1  2]\n",
    "#  [ 5  6]\n",
    "#  [ 9 10]]\n",
    "\n",
    "# 2. satırın 1. ve 2. sütunları\n",
    "print(b[1, 1:3])  # [6 7]\n",
    "\n",
    "# Son satır\n",
    "print(b[-1])  # [9 10 11 12]\n",
    "\n",
    "# Belirli bir alan (alt küme)\n",
    "print(b[1:3, 2:4])\n",
    "# [[ 7  8]\n",
    "#  [11 12]]\n"
   ]
  },
  {
   "cell_type": "markdown",
   "id": "dbc24844-b48f-4574-a5e6-b67a25f1d8f1",
   "metadata": {},
   "source": [
    "# Fancy İndex"
   ]
  },
  {
   "cell_type": "code",
   "execution_count": 4,
   "id": "587f6979-fea4-4f89-b4be-942b9c6f4945",
   "metadata": {
    "tags": []
   },
   "outputs": [
    {
     "name": "stdout",
     "output_type": "stream",
     "text": [
      "[10 30 50]\n",
      "[20 40]\n"
     ]
    }
   ],
   "source": [
    "# 1D array tanımla\n",
    "a = np.array([10, 20, 30, 40, 50])\n",
    "\n",
    "# Belirli indeksleri al (0, 2 ve 4. elemanlar)\n",
    "print(a[[0, 2, 4]])  # [10 30 50]\n",
    "\n",
    "# İndeksler array ile de verilebilir\n",
    "indices = [1, 3] # istediğimiz indexleri kaydedip direkt arraye veriyoruz\n",
    "print(a[indices])  # [20 40]\n"
   ]
  },
  {
   "cell_type": "code",
   "execution_count": null,
   "id": "042c5c73-a24f-465a-a10c-905e5fc16671",
   "metadata": {},
   "outputs": [],
   "source": []
  }
 ],
 "metadata": {
  "kernelspec": {
   "display_name": "Python 3 (ipykernel)",
   "language": "python",
   "name": "python3"
  },
  "language_info": {
   "codemirror_mode": {
    "name": "ipython",
    "version": 3
   },
   "file_extension": ".py",
   "mimetype": "text/x-python",
   "name": "python",
   "nbconvert_exporter": "python",
   "pygments_lexer": "ipython3",
   "version": "3.11.4"
  }
 },
 "nbformat": 4,
 "nbformat_minor": 5
}
